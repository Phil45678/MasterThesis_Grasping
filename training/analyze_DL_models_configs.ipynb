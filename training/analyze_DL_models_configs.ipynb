{
 "cells": [
  {
   "cell_type": "markdown",
   "id": "46ab1130",
   "metadata": {},
   "source": [
    "# Script to load and analyze model configurations "
   ]
  },
  {
   "cell_type": "markdown",
   "id": "c08d403b",
   "metadata": {},
   "source": [
    "NOTE: the models that were not custom coded (seq len 1) can not be loaded for some unknown error it would maybe be worth it to custom code the training loop and save the models by hand, in order to be able to load them (might not worth it though...) "
   ]
  },
  {
   "cell_type": "code",
   "execution_count": 1,
   "id": "8db42800",
   "metadata": {},
   "outputs": [],
   "source": [
    "import tensorflow as tf "
   ]
  },
  {
   "cell_type": "code",
   "execution_count": 2,
   "id": "a6c3b548",
   "metadata": {},
   "outputs": [],
   "source": [
    "# File locations \n",
    "load_str_model_PHI_small_big_fixed_2 = r\"C:\\Users\\phili\\Documents\\GitHub\\DexterousManipulation\\Figures\\Training\\500k_Data_Set\\Big_Cube_and_Small_Cube\\seq_len_2_no_redraw\\Model_PHI_1000_epochs_deep_sets_nb_50\"\n",
    "load_str_model_RHO_small_big_fixed_2 = r\"C:\\Users\\phili\\Documents\\GitHub\\DexterousManipulation\\Figures\\Training\\500k_Data_Set\\Big_Cube_and_Small_Cube\\seq_len_2_no_redraw\\Model_RHO_1000_epochs_deep_sets_nb_50\"\n",
    "\n",
    "load_str_model_PHI_small_big_fixed_5 = r\"C:\\Users\\phili\\Documents\\GitHub\\DexterousManipulation\\Figures\\Training\\500k_Data_Set\\Big_Cube_and_Small_Cube\\seq_len_5_no_redraw\\Model_PHI_1000_epochs_deep_sets_nb_50\"\n",
    "load_str_model_RHO_small_big_fixed_5 = r\"C:\\Users\\phili\\Documents\\GitHub\\DexterousManipulation\\Figures\\Training\\500k_Data_Set\\Big_Cube_and_Small_Cube\\seq_len_5_no_redraw\\Model_RHO_1000_epochs_deep_sets_nb_50\"\n",
    "\n",
    "load_str_model_PHI_small_big_fixed_10 = r\"C:\\Users\\phili\\Documents\\GitHub\\DexterousManipulation\\Figures\\Training\\500k_Data_Set\\Big_Cube_and_Small_Cube\\seq_len_10_no_redraw\\Model_PHI_1000_epochs_deep_sets_nb_50\"\n",
    "load_str_model_RHO_small_big_fixed_10 = r\"C:\\Users\\phili\\Documents\\GitHub\\DexterousManipulation\\Figures\\Training\\500k_Data_Set\\Big_Cube_and_Small_Cube\\seq_len_10_no_redraw\\Model_RHO_1000_epochs_deep_sets_nb_50\"\n",
    "\n",
    "load_str_model_PHI_small_big_var_5 = r\"C:\\Users\\phili\\Documents\\GitHub\\DexterousManipulation\\Figures\\Training\\500k_Data_Set\\Big_Cube_and_Small_Cube\\var_seq_len_max_5\\Model_PHI_1000_epochs_deep_sets_nb_75\"\n",
    "load_str_model_RHO_small_big_var_5 = r\"C:\\Users\\phili\\Documents\\GitHub\\DexterousManipulation\\Figures\\Training\\500k_Data_Set\\Big_Cube_and_Small_Cube\\var_seq_len_max_5\\Model_RHO_1000_epochs_deep_sets_nb_75\"\n",
    "\n",
    "load_str_model_PHI_small_big_var_10 = r\"C:\\Users\\phili\\Documents\\GitHub\\DexterousManipulation\\Figures\\Training\\500k_Data_Set\\Big_Cube_and_Small_Cube\\var_seq_len_max_10\\Model_PHI_1000_epochs_deep_sets_nb_75\"\n",
    "load_str_model_RHO_small_big_var_10 = r\"C:\\Users\\phili\\Documents\\GitHub\\DexterousManipulation\\Figures\\Training\\500k_Data_Set\\Big_Cube_and_Small_Cube\\var_seq_len_max_10\\Model_RHO_1000_epochs_deep_sets_nb_75\"\n",
    "\n",
    "\n",
    "\n",
    "load_str_model_PHI_medium_big_fixed_2 = r\"C:\\Users\\phili\\Documents\\GitHub\\DexterousManipulation\\Figures\\Training\\500k_Data_Set\\Big_Cube_and_Medium_Cube\\seq_len_2_no_redraw\\Model_PHI_1000_epochs_deep_sets_nb_30\"\n",
    "load_str_model_RHO_medium_big_fixed_2 = r\"C:\\Users\\phili\\Documents\\GitHub\\DexterousManipulation\\Figures\\Training\\500k_Data_Set\\Big_Cube_and_Medium_Cube\\seq_len_2_no_redraw\\Model_RHO_1000_epochs_deep_sets_nb_30\"\n",
    "\n",
    "load_str_model_PHI_medium_big_fixed_5 = r\"C:\\Users\\phili\\Documents\\GitHub\\DexterousManipulation\\Figures\\Training\\500k_Data_Set\\Big_Cube_and_Medium_Cube\\seq_len_5_no_redraw\\Model_PHI_1000_epochs_deep_sets_nb_30\"\n",
    "load_str_model_RHO_medium_big_fixed_5 = r\"C:\\Users\\phili\\Documents\\GitHub\\DexterousManipulation\\Figures\\Training\\500k_Data_Set\\Big_Cube_and_Medium_Cube\\seq_len_5_no_redraw\\Model_RHO_1000_epochs_deep_sets_nb_30\"\n",
    "\n",
    "load_str_model_PHI_medium_big_fixed_10 = r\"C:\\Users\\phili\\Documents\\GitHub\\DexterousManipulation\\Figures\\Training\\500k_Data_Set\\Big_Cube_and_Medium_Cube\\seq_len_10_no_redraw\\Model_PHI_1000_epochs_deep_sets_nb_30\"\n",
    "load_str_model_RHO_medium_big_fixed_10 = r\"C:\\Users\\phili\\Documents\\GitHub\\DexterousManipulation\\Figures\\Training\\500k_Data_Set\\Big_Cube_and_Medium_Cube\\seq_len_10_no_redraw\\Model_RHO_1000_epochs_deep_sets_nb_30\"\n",
    "\n",
    "load_str_model_PHI_medium_big_var_5 = r\"C:\\Users\\phili\\Documents\\GitHub\\DexterousManipulation\\Figures\\Training\\500k_Data_Set\\Big_Cube_and_Medium_Cube\\var_seq_len_max_5\\Model_PHI_1000_epochs_deep_sets_nb_75\"\n",
    "load_str_model_RHO_medium_big_var_5 = r\"C:\\Users\\phili\\Documents\\GitHub\\DexterousManipulation\\Figures\\Training\\500k_Data_Set\\Big_Cube_and_Medium_Cube\\var_seq_len_max_5\\Model_RHO_1000_epochs_deep_sets_nb_75\"\n",
    "\n",
    "load_str_model_PHI_medium_big_var_10 = r\"C:\\Users\\phili\\Documents\\GitHub\\DexterousManipulation\\Figures\\Training\\500k_Data_Set\\Big_Cube_and_Medium_Cube\\var_seq_len_max_10\\Model_PHI_1000_epochs_deep_sets_nb_75\"\n",
    "load_str_model_RHO_medium_big_var_10 = r\"C:\\Users\\phili\\Documents\\GitHub\\DexterousManipulation\\Figures\\Training\\500k_Data_Set\\Big_Cube_and_Medium_Cube\\var_seq_len_max_10\\Model_RHO_1000_epochs_deep_sets_nb_75\"\n",
    "\n",
    "\n",
    "load_str_model_PHI_cyli_big_fixed_2 = r\"C:\\Users\\phili\\Documents\\GitHub\\DexterousManipulation\\Figures\\Training\\500k_Data_Set\\Big_Cube_and_Cylinder\\seq_len_2_no_redraw\\Model_PHI_1000_epochs_deep_sets_nb_30\"\n",
    "load_str_model_RHO_cyli_big_fixed_2 = r\"C:\\Users\\phili\\Documents\\GitHub\\DexterousManipulation\\Figures\\Training\\500k_Data_Set\\Big_Cube_and_Cylinder\\seq_len_2_no_redraw\\Model_RHO_1000_epochs_deep_sets_nb_30\"\n",
    "\n",
    "load_str_model_PHI_cyli_big_fixed_5 = r\"C:\\Users\\phili\\Documents\\GitHub\\DexterousManipulation\\Figures\\Training\\500k_Data_Set\\Big_Cube_and_Cylinder\\seq_len_5_no_redraw\\Model_PHI_1000_epochs_deep_sets_nb_30\"\n",
    "load_str_model_RHO_cyli_big_fixed_5 = r\"C:\\Users\\phili\\Documents\\GitHub\\DexterousManipulation\\Figures\\Training\\500k_Data_Set\\Big_Cube_and_Cylinder\\seq_len_5_no_redraw\\Model_RHO_1000_epochs_deep_sets_nb_30\"\n",
    "\n",
    "load_str_model_PHI_cyli_big_fixed_10 = r\"C:\\Users\\phili\\Documents\\GitHub\\DexterousManipulation\\Figures\\Training\\500k_Data_Set\\Big_Cube_and_Cylinder\\seq_len_10_no_redraw\\Model_PHI_1000_epochs_deep_sets_nb_30\"\n",
    "load_str_model_RHO_cyli_big_fixed_10 = r\"C:\\Users\\phili\\Documents\\GitHub\\DexterousManipulation\\Figures\\Training\\500k_Data_Set\\Big_Cube_and_Cylinder\\seq_len_10_no_redraw\\Model_RHO_1000_epochs_deep_sets_nb_30\"\n",
    "\n",
    "load_str_model_PHI_cyli_big_var_5 = r\"C:\\Users\\phili\\Documents\\GitHub\\DexterousManipulation\\Figures\\Training\\500k_Data_Set\\Big_Cube_and_Cylinder\\var_seq_len_max_5\\Model_PHI_1000_epochs_deep_sets_nb_75\"\n",
    "load_str_model_RHO_cyli_big_var_5 = r\"C:\\Users\\phili\\Documents\\GitHub\\DexterousManipulation\\Figures\\Training\\500k_Data_Set\\Big_Cube_and_Cylinder\\var_seq_len_max_5\\Model_RHO_1000_epochs_deep_sets_nb_75\"\n",
    "\n",
    "load_str_model_PHI_cyli_big_var_10 = r\"C:\\Users\\phili\\Documents\\GitHub\\DexterousManipulation\\Figures\\Training\\500k_Data_Set\\Big_Cube_and_Cylinder\\var_seq_len_max_10\\Model_PHI_1000_epochs_deep_sets_nb_75\"\n",
    "load_str_model_RHO_cyli_big_var_10 = r\"C:\\Users\\phili\\Documents\\GitHub\\DexterousManipulation\\Figures\\Training\\500k_Data_Set\\Big_Cube_and_Cylinder\\var_seq_len_max_10\\Model_RHO_1000_epochs_deep_sets_nb_75\"\n",
    "\n",
    "\n"
   ]
  },
  {
   "cell_type": "code",
   "execution_count": 3,
   "id": "949d4b62",
   "metadata": {},
   "outputs": [],
   "source": [
    "# Loading the models \n",
    "model_PHI_small_big_fixed_2 = tf.keras.models.load_model(load_str_model_PHI_small_big_fixed_2)\n",
    "model_RHO_small_big_fixed_2 = tf.keras.models.load_model(load_str_model_RHO_small_big_fixed_2)\n",
    "\n",
    "model_PHI_small_big_fixed_5 = tf.keras.models.load_model(load_str_model_PHI_small_big_fixed_5)\n",
    "model_RHO_small_big_fixed_5 = tf.keras.models.load_model(load_str_model_RHO_small_big_fixed_5)\n",
    "\n",
    "model_PHI_small_big_fixed_10 = tf.keras.models.load_model(load_str_model_PHI_small_big_fixed_10)\n",
    "model_RHO_small_big_fixed_10 = tf.keras.models.load_model(load_str_model_RHO_small_big_fixed_10)"
   ]
  },
  {
   "cell_type": "code",
   "execution_count": 4,
   "id": "aad43459",
   "metadata": {},
   "outputs": [],
   "source": [
    "# Loading the prediction models for variable sequence length \n",
    "load_str_model_prediction_PHI = r\"C:\\Users\\phili\\Documents\\GitHub\\DexterousManipulation\\Figures\\Training\\500k_Data_Set\\Big_Cube_and_Medium_Cube\\var_seq_len_max_5\\Model_PHI_1000_epochs_deep_sets_nb_75\"\n",
    "model_prediction_PHI = tf.keras.models.load_model(load_str_model_prediction_PHI)\n",
    "\n",
    "load_str_model_prediction_RHO = r\"C:\\Users\\phili\\Documents\\GitHub\\DexterousManipulation\\Figures\\Training\\500k_Data_Set\\Big_Cube_and_Medium_Cube\\var_seq_len_max_5\\Model_RHO_1000_epochs_deep_sets_nb_75\"\n",
    "model_prediction_RHO = tf.keras.models.load_model(load_str_model_prediction_RHO)"
   ]
  },
  {
   "cell_type": "code",
   "execution_count": 5,
   "id": "fc902a24",
   "metadata": {},
   "outputs": [
    {
     "name": "stdout",
     "output_type": "stream",
     "text": [
      "Model: \"Phi\"\n",
      "_________________________________________________________________\n",
      "Layer (type)                 Output Shape              Param #   \n",
      "=================================================================\n",
      "dense (Dense)                (None, 64)                960       \n",
      "_________________________________________________________________\n",
      "dense_1 (Dense)              (None, 32)                2080      \n",
      "_________________________________________________________________\n",
      "dense_2 (Dense)              (None, 14)                462       \n",
      "=================================================================\n",
      "Total params: 3,502\n",
      "Trainable params: 3,502\n",
      "Non-trainable params: 0\n",
      "_________________________________________________________________\n"
     ]
    }
   ],
   "source": [
    "model_prediction_PHI.summary()"
   ]
  },
  {
   "cell_type": "code",
   "execution_count": 9,
   "id": "58ee8567",
   "metadata": {},
   "outputs": [
    {
     "name": "stdout",
     "output_type": "stream",
     "text": [
      "Model: \"Rho\"\n",
      "_________________________________________________________________\n",
      "Layer (type)                 Output Shape              Param #   \n",
      "=================================================================\n",
      "dense_3 (Dense)              (None, 64)                960       \n",
      "_________________________________________________________________\n",
      "dense_4 (Dense)              (None, 32)                2080      \n",
      "_________________________________________________________________\n",
      "dense_5 (Dense)              (None, 2)                 66        \n",
      "=================================================================\n",
      "Total params: 3,106\n",
      "Trainable params: 3,106\n",
      "Non-trainable params: 0\n",
      "_________________________________________________________________\n"
     ]
    }
   ],
   "source": [
    "model_prediction_RHO.summary()"
   ]
  },
  {
   "cell_type": "code",
   "execution_count": 15,
   "id": "79038e31",
   "metadata": {},
   "outputs": [
    {
     "name": "stdout",
     "output_type": "stream",
     "text": [
      "<tensorflow.python.keras.layers.core.Dense object at 0x00000234DDB254C8>\n"
     ]
    }
   ],
   "source": [
    "test_layer = model_prediction_PHI.get_layer(\"dense\")\n",
    "print(test_layer)"
   ]
  },
  {
   "cell_type": "code",
   "execution_count": 16,
   "id": "b3eef44c",
   "metadata": {},
   "outputs": [
    {
     "name": "stdout",
     "output_type": "stream",
     "text": [
      "{'name': 'dense', 'trainable': True, 'dtype': 'float64', 'units': 64, 'activation': 'relu', 'use_bias': True, 'kernel_initializer': {'class_name': 'GlorotUniform', 'config': {'seed': None}}, 'bias_initializer': {'class_name': 'Zeros', 'config': {}}, 'kernel_regularizer': None, 'bias_regularizer': None, 'activity_regularizer': None, 'kernel_constraint': None, 'bias_constraint': None}\n"
     ]
    }
   ],
   "source": [
    "print(test_layer.get_config())"
   ]
  },
  {
   "cell_type": "code",
   "execution_count": 5,
   "id": "98598232",
   "metadata": {},
   "outputs": [
    {
     "name": "stdout",
     "output_type": "stream",
     "text": [
      "Model: \"Rho\"\n",
      "_________________________________________________________________\n",
      "Layer (type)                 Output Shape              Param #   \n",
      "=================================================================\n",
      "dense_3 (Dense)              (None, 64)                960       \n",
      "_________________________________________________________________\n",
      "dense_4 (Dense)              (None, 32)                2080      \n",
      "_________________________________________________________________\n",
      "dense_5 (Dense)              (None, 2)                 66        \n",
      "=================================================================\n",
      "Total params: 3,106\n",
      "Trainable params: 3,106\n",
      "Non-trainable params: 0\n",
      "_________________________________________________________________\n"
     ]
    }
   ],
   "source": [
    "model_prediction_RHO.summary()"
   ]
  },
  {
   "cell_type": "code",
   "execution_count": 2,
   "id": "d476a3ad",
   "metadata": {},
   "outputs": [],
   "source": [
    "load_str_model_PHI_YCB_2_full_hand_non_zero = r\"C:\\Users\\phili\\Documents\\GitHub\\DexterousManipulation\\Figures\\Training\\YCB_Data_Set\\seq_len_2\\Model_PHI_500_epochs_deep_sets_nb_7\"\n",
    "load_str_model_RHO_YCB_2_full_hand_non_zero = r\"C:\\Users\\phili\\Documents\\GitHub\\DexterousManipulation\\Figures\\Training\\YCB_Data_Set\\seq_len_2\\Model_RHO_500_epochs_deep_sets_nb_7\""
   ]
  },
  {
   "cell_type": "code",
   "execution_count": 4,
   "id": "96d40414",
   "metadata": {},
   "outputs": [],
   "source": [
    "# Loading the models \n",
    "model_PHI_YCB_2_full_hand_non_zero = tf.keras.models.load_model(load_str_model_PHI_YCB_2_full_hand_non_zero)\n",
    "model_RHO_YCB_2_full_hand_non_zero = tf.keras.models.load_model(load_str_model_RHO_YCB_2_full_hand_non_zero)"
   ]
  },
  {
   "cell_type": "code",
   "execution_count": 5,
   "id": "bd779418",
   "metadata": {},
   "outputs": [
    {
     "name": "stdout",
     "output_type": "stream",
     "text": [
      "Model: \"Phi\"\n",
      "_________________________________________________________________\n",
      "Layer (type)                 Output Shape              Param #   \n",
      "=================================================================\n",
      "dense (Dense)                (None, 64)                960       \n",
      "_________________________________________________________________\n",
      "dense_1 (Dense)              (None, 32)                2080      \n",
      "_________________________________________________________________\n",
      "dense_2 (Dense)              (None, 14)                462       \n",
      "=================================================================\n",
      "Total params: 3,502\n",
      "Trainable params: 3,502\n",
      "Non-trainable params: 0\n",
      "_________________________________________________________________\n"
     ]
    }
   ],
   "source": [
    "model_PHI_YCB_2_full_hand_non_zero.summary()"
   ]
  },
  {
   "cell_type": "code",
   "execution_count": 6,
   "id": "24e671d3",
   "metadata": {},
   "outputs": [],
   "source": [
    "test_layer = model_PHI_YCB_2_full_hand_non_zero.get_layer(\"dense\")"
   ]
  },
  {
   "cell_type": "code",
   "execution_count": 7,
   "id": "1a218838",
   "metadata": {},
   "outputs": [
    {
     "name": "stdout",
     "output_type": "stream",
     "text": [
      "{'name': 'dense', 'trainable': True, 'dtype': 'float64', 'units': 64, 'activation': 'relu', 'use_bias': True, 'kernel_initializer': {'class_name': 'GlorotUniform', 'config': {'seed': None}}, 'bias_initializer': {'class_name': 'Zeros', 'config': {}}, 'kernel_regularizer': None, 'bias_regularizer': None, 'activity_regularizer': None, 'kernel_constraint': None, 'bias_constraint': None}\n"
     ]
    }
   ],
   "source": [
    "print(test_layer.get_config())"
   ]
  }
 ],
 "metadata": {
  "kernelspec": {
   "display_name": "Python 3 (ipykernel)",
   "language": "python",
   "name": "python3"
  },
  "language_info": {
   "codemirror_mode": {
    "name": "ipython",
    "version": 3
   },
   "file_extension": ".py",
   "mimetype": "text/x-python",
   "name": "python",
   "nbconvert_exporter": "python",
   "pygments_lexer": "ipython3",
   "version": "3.7.10"
  }
 },
 "nbformat": 4,
 "nbformat_minor": 5
}
