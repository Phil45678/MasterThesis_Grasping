{
 "cells": [
  {
   "cell_type": "markdown",
   "id": "39756a94",
   "metadata": {},
   "source": [
    "# Script used to compute and analyse the bayesian optimization statistics"
   ]
  },
  {
   "cell_type": "code",
   "execution_count": 200,
   "id": "d7030ee9",
   "metadata": {},
   "outputs": [],
   "source": [
    "import numpy as np \n",
    "import os "
   ]
  },
  {
   "cell_type": "code",
   "execution_count": 201,
   "id": "bfddfe28",
   "metadata": {},
   "outputs": [],
   "source": [
    "# Hyper-paramters \n",
    "nb_h_files = 500 \n",
    "nb_it_per_h = 10 "
   ]
  },
  {
   "cell_type": "markdown",
   "id": "86fe646a",
   "metadata": {},
   "source": [
    "## Analysis for 1 re-grasp (seq len 2) "
   ]
  },
  {
   "cell_type": "code",
   "execution_count": 202,
   "id": "bef61c21",
   "metadata": {},
   "outputs": [],
   "source": [
    "# Data locations \n",
    "data_true_med_str = \"bay_opt_DATA_med_TEST_extra\"\n",
    "data_true_big_str = \"bay_opt_DATA_big_TEST_extra\""
   ]
  },
  {
   "cell_type": "code",
   "execution_count": 155,
   "id": "8d24acb1",
   "metadata": {},
   "outputs": [],
   "source": [
    "#data_true_med_str = \"bay_opt_DATA_cyli_cyli\"\n",
    "# data_true_big_str = \"bay_opt_DATA_cyli_big\""
   ]
  },
  {
   "cell_type": "code",
   "execution_count": 156,
   "id": "2f4bb868",
   "metadata": {},
   "outputs": [],
   "source": [
    "initial_h_list_med = []\n",
    "inital_data_set_list_med = []\n",
    "sub_data_sets_list_med = []\n",
    "prediction_first_h_list_med = []\n",
    "prediction_bay_opt_list_med = []\n",
    "prediction_rand_grasp_list_med = []\n",
    "bay_op_sugg_list_med = []\n",
    "bay_op_sugg_scores_list_med = []\n",
    "random_second_h_list_med = []\n",
    "first_grasp_metric_save_list_med = []\n",
    "second_bay_grasp_metric_list_med = []\n",
    "second_rand_grasp_metric_list_med = []"
   ]
  },
  {
   "cell_type": "code",
   "execution_count": 157,
   "id": "d28b3a32",
   "metadata": {},
   "outputs": [],
   "source": [
    "initial_h_list_big = []\n",
    "inital_data_set_list_big = []\n",
    "sub_data_sets_list_big = []\n",
    "prediction_first_h_list_big = []\n",
    "prediction_bay_opt_list_big = []\n",
    "prediction_rand_grasp_list_big = []\n",
    "bay_op_sugg_list_big = []\n",
    "bay_op_sugg_scores_list_big = []\n",
    "random_second_h_list_big = []\n",
    "first_grasp_metric_save_list_big = []\n",
    "second_bay_grasp_metric_list_big = []\n",
    "second_rand_grasp_metric_list_big = []"
   ]
  },
  {
   "cell_type": "code",
   "execution_count": 163,
   "id": "799ef77b",
   "metadata": {},
   "outputs": [
    {
     "ename": "KeyError",
     "evalue": "'prediction_bay_opt is not a file in the archive'",
     "output_type": "error",
     "traceback": [
      "\u001b[1;31m---------------------------------------------------------------------------\u001b[0m",
      "\u001b[1;31mKeyError\u001b[0m                                  Traceback (most recent call last)",
      "\u001b[1;32m~\\AppData\\Local\\Temp/ipykernel_17940/1603143781.py\u001b[0m in \u001b[0;36m<module>\u001b[1;34m\u001b[0m\n\u001b[0;32m      7\u001b[0m     \u001b[0msub_data_sets_list_med\u001b[0m\u001b[1;33m.\u001b[0m\u001b[0mappend\u001b[0m\u001b[1;33m(\u001b[0m\u001b[0mfile_data\u001b[0m\u001b[1;33m[\u001b[0m\u001b[1;34m\"sub_data_sets\"\u001b[0m\u001b[1;33m]\u001b[0m\u001b[1;33m)\u001b[0m\u001b[1;33m\u001b[0m\u001b[1;33m\u001b[0m\u001b[0m\n\u001b[0;32m      8\u001b[0m     \u001b[0mprediction_first_h_list_med\u001b[0m\u001b[1;33m.\u001b[0m\u001b[0mappend\u001b[0m\u001b[1;33m(\u001b[0m\u001b[0mfile_data\u001b[0m\u001b[1;33m[\u001b[0m\u001b[1;34m\"prediction_first_h\"\u001b[0m\u001b[1;33m]\u001b[0m\u001b[1;33m)\u001b[0m\u001b[1;33m\u001b[0m\u001b[1;33m\u001b[0m\u001b[0m\n\u001b[1;32m----> 9\u001b[1;33m     \u001b[0mprediction_bay_opt_list_med\u001b[0m\u001b[1;33m.\u001b[0m\u001b[0mappend\u001b[0m\u001b[1;33m(\u001b[0m\u001b[0mfile_data\u001b[0m\u001b[1;33m[\u001b[0m\u001b[1;34m\"prediction_bay_opt\"\u001b[0m\u001b[1;33m]\u001b[0m\u001b[1;33m)\u001b[0m\u001b[1;33m\u001b[0m\u001b[1;33m\u001b[0m\u001b[0m\n\u001b[0m\u001b[0;32m     10\u001b[0m     \u001b[0mprediction_rand_grasp_list_med\u001b[0m\u001b[1;33m.\u001b[0m\u001b[0mappend\u001b[0m\u001b[1;33m(\u001b[0m\u001b[0mfile_data\u001b[0m\u001b[1;33m[\u001b[0m\u001b[1;34m\"prediction_rand_grasp\"\u001b[0m\u001b[1;33m]\u001b[0m\u001b[1;33m)\u001b[0m\u001b[1;33m\u001b[0m\u001b[1;33m\u001b[0m\u001b[0m\n\u001b[0;32m     11\u001b[0m     \u001b[0mbay_op_sugg_list_med\u001b[0m\u001b[1;33m.\u001b[0m\u001b[0mappend\u001b[0m\u001b[1;33m(\u001b[0m\u001b[0mfile_data\u001b[0m\u001b[1;33m[\u001b[0m\u001b[1;34m\"bay_op_sugg\"\u001b[0m\u001b[1;33m]\u001b[0m\u001b[1;33m)\u001b[0m\u001b[1;33m\u001b[0m\u001b[1;33m\u001b[0m\u001b[0m\n",
      "\u001b[1;32m~\\anaconda3\\envs\\bayesian_opt\\lib\\site-packages\\numpy\\lib\\npyio.py\u001b[0m in \u001b[0;36m__getitem__\u001b[1;34m(self, key)\u001b[0m\n\u001b[0;32m    257\u001b[0m                 \u001b[1;32mreturn\u001b[0m \u001b[0mself\u001b[0m\u001b[1;33m.\u001b[0m\u001b[0mzip\u001b[0m\u001b[1;33m.\u001b[0m\u001b[0mread\u001b[0m\u001b[1;33m(\u001b[0m\u001b[0mkey\u001b[0m\u001b[1;33m)\u001b[0m\u001b[1;33m\u001b[0m\u001b[1;33m\u001b[0m\u001b[0m\n\u001b[0;32m    258\u001b[0m         \u001b[1;32melse\u001b[0m\u001b[1;33m:\u001b[0m\u001b[1;33m\u001b[0m\u001b[1;33m\u001b[0m\u001b[0m\n\u001b[1;32m--> 259\u001b[1;33m             \u001b[1;32mraise\u001b[0m \u001b[0mKeyError\u001b[0m\u001b[1;33m(\u001b[0m\u001b[1;34m\"%s is not a file in the archive\"\u001b[0m \u001b[1;33m%\u001b[0m \u001b[0mkey\u001b[0m\u001b[1;33m)\u001b[0m\u001b[1;33m\u001b[0m\u001b[1;33m\u001b[0m\u001b[0m\n\u001b[0m\u001b[0;32m    260\u001b[0m \u001b[1;33m\u001b[0m\u001b[0m\n\u001b[0;32m    261\u001b[0m \u001b[1;33m\u001b[0m\u001b[0m\n",
      "\u001b[1;31mKeyError\u001b[0m: 'prediction_bay_opt is not a file in the archive'"
     ]
    }
   ],
   "source": [
    "# Loading the data (true medium)\n",
    "for filename in os.listdir(data_true_med_str): \n",
    "    file_data = np.load(data_true_med_str + \"/\" + filename)\n",
    "    \n",
    "    initial_h_list_med.append(file_data[\"initial_h\"])\n",
    "    inital_data_set_list_med.append(file_data[\"inital_data_set\"])\n",
    "    sub_data_sets_list_med.append(file_data[\"sub_data_sets\"])\n",
    "    prediction_first_h_list_med.append(file_data[\"prediction_first_h\"])\n",
    "    prediction_bay_opt_list_med.append(file_data[\"prediction_bay_opt\"])\n",
    "    prediction_rand_grasp_list_med.append(file_data[\"prediction_rand_grasp\"])\n",
    "    bay_op_sugg_list_med.append(file_data[\"bay_op_sugg\"])\n",
    "    bay_op_sugg_scores_list_med.append(file_data[\"bay_op_sugg_scores\"])\n",
    "    random_second_h_list_med.append(file_data[\"random_second_h\"])\n",
    "    first_grasp_metric_save_list_med.append(file_data[\"first_grasp_metric_save\"])\n",
    "    second_bay_grasp_metric_list_med.append(file_data[\"second_bay_grasp_metric\"])\n",
    "    second_rand_grasp_metric_list_med.append(file_data[\"second_rand_grasp_metric\"])\n",
    "    \n"
   ]
  },
  {
   "cell_type": "code",
   "execution_count": 151,
   "id": "cfe19ddb",
   "metadata": {},
   "outputs": [
    {
     "ename": "FileNotFoundError",
     "evalue": "[WinError 3] The system cannot find the path specified: 'bay_opt_DATA_big_TEST__extra'",
     "output_type": "error",
     "traceback": [
      "\u001b[1;31m---------------------------------------------------------------------------\u001b[0m",
      "\u001b[1;31mFileNotFoundError\u001b[0m                         Traceback (most recent call last)",
      "\u001b[1;32m~\\AppData\\Local\\Temp/ipykernel_17940/126479241.py\u001b[0m in \u001b[0;36m<module>\u001b[1;34m\u001b[0m\n\u001b[0;32m      1\u001b[0m \u001b[1;31m# Loading the data (true big)\u001b[0m\u001b[1;33m\u001b[0m\u001b[1;33m\u001b[0m\u001b[1;33m\u001b[0m\u001b[0m\n\u001b[1;32m----> 2\u001b[1;33m \u001b[1;32mfor\u001b[0m \u001b[0mfilename\u001b[0m \u001b[1;32min\u001b[0m \u001b[0mos\u001b[0m\u001b[1;33m.\u001b[0m\u001b[0mlistdir\u001b[0m\u001b[1;33m(\u001b[0m\u001b[0mdata_true_big_str\u001b[0m\u001b[1;33m)\u001b[0m\u001b[1;33m:\u001b[0m\u001b[1;33m\u001b[0m\u001b[1;33m\u001b[0m\u001b[0m\n\u001b[0m\u001b[0;32m      3\u001b[0m     \u001b[0mfile_data\u001b[0m \u001b[1;33m=\u001b[0m \u001b[0mnp\u001b[0m\u001b[1;33m.\u001b[0m\u001b[0mload\u001b[0m\u001b[1;33m(\u001b[0m\u001b[0mdata_true_big_str\u001b[0m \u001b[1;33m+\u001b[0m \u001b[1;34m\"/\"\u001b[0m \u001b[1;33m+\u001b[0m \u001b[0mfilename\u001b[0m\u001b[1;33m)\u001b[0m\u001b[1;33m\u001b[0m\u001b[1;33m\u001b[0m\u001b[0m\n\u001b[0;32m      4\u001b[0m \u001b[1;33m\u001b[0m\u001b[0m\n\u001b[0;32m      5\u001b[0m     \u001b[0minitial_h_list_big\u001b[0m\u001b[1;33m.\u001b[0m\u001b[0mappend\u001b[0m\u001b[1;33m(\u001b[0m\u001b[0mfile_data\u001b[0m\u001b[1;33m[\u001b[0m\u001b[1;34m\"initial_h\"\u001b[0m\u001b[1;33m]\u001b[0m\u001b[1;33m)\u001b[0m\u001b[1;33m\u001b[0m\u001b[1;33m\u001b[0m\u001b[0m\n",
      "\u001b[1;31mFileNotFoundError\u001b[0m: [WinError 3] The system cannot find the path specified: 'bay_opt_DATA_big_TEST__extra'"
     ]
    }
   ],
   "source": [
    "# Loading the data (true big)\n",
    "for filename in os.listdir(data_true_big_str): \n",
    "    file_data = np.load(data_true_big_str + \"/\" + filename)\n",
    "    \n",
    "    initial_h_list_big.append(file_data[\"initial_h\"])\n",
    "    inital_data_set_list_big.append(file_data[\"inital_data_set\"])\n",
    "    sub_data_sets_list_big.append(file_data[\"sub_data_sets\"])\n",
    "    prediction_first_h_list_big.append(file_data[\"prediction_first_h\"])\n",
    "    prediction_bay_opt_list_big.append(file_data[\"prediction_bay_opt\"])\n",
    "    prediction_rand_grasp_list_big.append(file_data[\"prediction_rand_grasp\"])\n",
    "    bay_op_sugg_list_big.append(file_data[\"bay_op_sugg\"])\n",
    "    bay_op_sugg_scores_list_big.append(file_data[\"bay_op_sugg_scores\"])\n",
    "    random_second_h_list_big.append(file_data[\"random_second_h\"])\n",
    "    first_grasp_metric_save_list_big.append(file_data[\"first_grasp_metric_save\"])\n",
    "    second_bay_grasp_metric_list_big.append(file_data[\"second_bay_grasp_metric\"])\n",
    "    second_rand_grasp_metric_list_big.append(file_data[\"second_rand_grasp_metric\"])"
   ]
  },
  {
   "cell_type": "code",
   "execution_count": 152,
   "id": "e5be9558",
   "metadata": {},
   "outputs": [],
   "source": [
    "# Counting number of correct prediction after bayesian optimization \n",
    "count_nb_correct_med_bay = 0 \n",
    "tot_ctr_med_bay = 0 \n",
    "pred_conf_med_bay_correct = []\n",
    "pred_conf_med_bay_all = []\n",
    "for it in range(len(prediction_bay_opt_list_med)):\n",
    "    pred_arr = prediction_bay_opt_list_med[it]\n",
    "    for arr_it in range(nb_it_per_h): \n",
    "        tot_ctr_med_bay += 1 \n",
    "        pred_conf_med_bay_all.append(pred_arr[arr_it, 1])\n",
    "        if pred_arr[arr_it, 1] >= 0.5: \n",
    "            count_nb_correct_med_bay += 1 \n",
    "            pred_conf_med_bay_correct.append(pred_arr[arr_it, 1])"
   ]
  },
  {
   "cell_type": "code",
   "execution_count": 153,
   "id": "ada96c67",
   "metadata": {},
   "outputs": [
    {
     "name": "stdout",
     "output_type": "stream",
     "text": [
      "0\n",
      "0\n"
     ]
    },
    {
     "ename": "ZeroDivisionError",
     "evalue": "division by zero",
     "output_type": "error",
     "traceback": [
      "\u001b[1;31m---------------------------------------------------------------------------\u001b[0m",
      "\u001b[1;31mZeroDivisionError\u001b[0m                         Traceback (most recent call last)",
      "\u001b[1;32m~\\AppData\\Local\\Temp/ipykernel_17940/4227046400.py\u001b[0m in \u001b[0;36m<module>\u001b[1;34m\u001b[0m\n\u001b[0;32m      1\u001b[0m \u001b[0mprint\u001b[0m\u001b[1;33m(\u001b[0m\u001b[0mcount_nb_correct_med_bay\u001b[0m\u001b[1;33m)\u001b[0m\u001b[1;33m\u001b[0m\u001b[1;33m\u001b[0m\u001b[0m\n\u001b[0;32m      2\u001b[0m \u001b[0mprint\u001b[0m\u001b[1;33m(\u001b[0m\u001b[0mtot_ctr_med_bay\u001b[0m\u001b[1;33m)\u001b[0m\u001b[1;33m\u001b[0m\u001b[1;33m\u001b[0m\u001b[0m\n\u001b[1;32m----> 3\u001b[1;33m \u001b[0mprint\u001b[0m\u001b[1;33m(\u001b[0m\u001b[1;34m\"Success rate in %: \"\u001b[0m\u001b[1;33m,\u001b[0m \u001b[0mcount_nb_correct_med_bay\u001b[0m \u001b[1;33m/\u001b[0m \u001b[0mtot_ctr_med_bay\u001b[0m \u001b[1;33m*\u001b[0m\u001b[1;36m100\u001b[0m\u001b[1;33m)\u001b[0m\u001b[1;33m\u001b[0m\u001b[1;33m\u001b[0m\u001b[0m\n\u001b[0m",
      "\u001b[1;31mZeroDivisionError\u001b[0m: division by zero"
     ]
    }
   ],
   "source": [
    "print(count_nb_correct_med_bay)\n",
    "print(tot_ctr_med_bay)\n",
    "print(\"Success rate in %: \", count_nb_correct_med_bay / tot_ctr_med_bay *100)"
   ]
  },
  {
   "cell_type": "code",
   "execution_count": 135,
   "id": "416f979e",
   "metadata": {},
   "outputs": [
    {
     "name": "stdout",
     "output_type": "stream",
     "text": [
      "Total success rate in %:  52.190000000000005\n"
     ]
    }
   ],
   "source": [
    "print(\"Total success rate in %: \", (count_nb_correct_med_bay + count_nb_correct_big_bay)/(tot_ctr_med_bay+tot_ctr_big_bay)*100)"
   ]
  },
  {
   "cell_type": "code",
   "execution_count": 24,
   "id": "82951274",
   "metadata": {},
   "outputs": [],
   "source": [
    "# Counting number of correct prediction after random grasp\n",
    "count_nb_correct_med_rand = 0 \n",
    "tot_ctr_med_rand = 0\n",
    "pred_conf_med_rand_correct = []\n",
    "pred_conf_med_rand_all = []\n",
    "for it in range(len(prediction_rand_grasp_list_med)):\n",
    "    pred_arr = prediction_rand_grasp_list_med[it]\n",
    "    for arr_it in range(nb_it_per_h): \n",
    "        tot_ctr_med_rand += 1 \n",
    "        pred_conf_med_rand_all.append(pred_arr[arr_it, 1])\n",
    "        if pred_arr[arr_it, 1] >= 0.5: \n",
    "            count_nb_correct_med_rand += 1 \n",
    "            pred_conf_med_rand_correct.append(pred_arr[arr_it, 1])"
   ]
  },
  {
   "cell_type": "code",
   "execution_count": 25,
   "id": "ea41ae02",
   "metadata": {},
   "outputs": [
    {
     "name": "stdout",
     "output_type": "stream",
     "text": [
      "1939\n",
      "5000\n",
      "Success rate in %:  38.78\n"
     ]
    }
   ],
   "source": [
    "print(count_nb_correct_med_rand)\n",
    "print(tot_ctr_med_rand)\n",
    "print(\"Success rate in %: \", count_nb_correct_med_rand / tot_ctr_med_rand *100)"
   ]
  },
  {
   "cell_type": "code",
   "execution_count": 26,
   "id": "3266e456",
   "metadata": {},
   "outputs": [],
   "source": [
    "# Counting number of correct prediction after bayesian optimization \n",
    "count_nb_correct_big_bay = 0 \n",
    "tot_ctr_big_bay = 0 \n",
    "pred_conf_big_bay_correct = []\n",
    "pred_conf_big_bay_all = []\n",
    "for it in range(len(prediction_bay_opt_list_big)):\n",
    "    pred_arr = prediction_bay_opt_list_big[it]\n",
    "    for arr_it in range(nb_it_per_h): \n",
    "        tot_ctr_big_bay += 1 \n",
    "        pred_conf_big_bay_all.append(pred_arr[arr_it, 0])\n",
    "        if pred_arr[arr_it, 0] >= 0.5: \n",
    "            count_nb_correct_big_bay += 1\n",
    "            pred_conf_big_bay_correct.append(pred_arr[arr_it, 0])"
   ]
  },
  {
   "cell_type": "code",
   "execution_count": 27,
   "id": "e5f72748",
   "metadata": {},
   "outputs": [
    {
     "name": "stdout",
     "output_type": "stream",
     "text": [
      "4751\n",
      "5000\n",
      "Success rate in %:  95.02000000000001\n"
     ]
    }
   ],
   "source": [
    "print(count_nb_correct_big_bay)\n",
    "print(tot_ctr_big_bay)\n",
    "print(\"Success rate in %: \", count_nb_correct_big_bay / tot_ctr_big_bay *100)"
   ]
  },
  {
   "cell_type": "code",
   "execution_count": 28,
   "id": "dfa0e530",
   "metadata": {},
   "outputs": [],
   "source": [
    "# Counting number of correct prediction after random grasp\n",
    "count_nb_correct_big_rand = 0 \n",
    "tot_ctr_big_rand = 0 \n",
    "pred_conf_big_rand_correct = []\n",
    "pred_conf_big_rand_all = []\n",
    "for it in range(len(prediction_rand_grasp_list_big)):\n",
    "    pred_arr = prediction_rand_grasp_list_big[it]\n",
    "    for arr_it in range(nb_it_per_h): \n",
    "        tot_ctr_big_rand += 1 \n",
    "        pred_conf_big_rand_all.append(pred_arr[arr_it, 0])\n",
    "        if pred_arr[arr_it, 0] >= 0.5: \n",
    "            count_nb_correct_big_rand += 1 \n",
    "            pred_conf_big_rand_correct.append(pred_arr[arr_it, 0])"
   ]
  },
  {
   "cell_type": "code",
   "execution_count": 29,
   "id": "78588c5d",
   "metadata": {},
   "outputs": [
    {
     "name": "stdout",
     "output_type": "stream",
     "text": [
      "4391\n",
      "5000\n",
      "Success rate in %:  87.82\n"
     ]
    }
   ],
   "source": [
    "print(count_nb_correct_big_rand)\n",
    "print(tot_ctr_big_rand)\n",
    "print(\"Success rate in %: \", count_nb_correct_big_rand / tot_ctr_big_rand *100)"
   ]
  },
  {
   "cell_type": "code",
   "execution_count": 136,
   "id": "4217a891",
   "metadata": {},
   "outputs": [
    {
     "name": "stdout",
     "output_type": "stream",
     "text": [
      "Total success rate in %:  63.3\n"
     ]
    }
   ],
   "source": [
    "print(\"Total success rate in %: \", (count_nb_correct_med_rand + count_nb_correct_big_rand)/(tot_ctr_med_bay+tot_ctr_big_rand)*100)"
   ]
  },
  {
   "cell_type": "markdown",
   "id": "46f0a2e4",
   "metadata": {},
   "source": [
    "## Prediction confidence "
   ]
  },
  {
   "cell_type": "code",
   "execution_count": 30,
   "id": "555c4a75",
   "metadata": {},
   "outputs": [],
   "source": [
    "import statistics "
   ]
  },
  {
   "cell_type": "code",
   "execution_count": 75,
   "id": "67f06bd7",
   "metadata": {},
   "outputs": [
    {
     "name": "stdout",
     "output_type": "stream",
     "text": [
      "13.519500953648656\n"
     ]
    }
   ],
   "source": [
    "print(statistics.mean(pred_conf_med_bay_all)*100)"
   ]
  },
  {
   "cell_type": "code",
   "execution_count": 77,
   "id": "d181abd5",
   "metadata": {},
   "outputs": [
    {
     "name": "stdout",
     "output_type": "stream",
     "text": [
      "91.24883120155256\n"
     ]
    }
   ],
   "source": [
    "print(statistics.mean(pred_conf_big_bay_all)*100)"
   ]
  },
  {
   "cell_type": "code",
   "execution_count": 76,
   "id": "e170b63e",
   "metadata": {},
   "outputs": [
    {
     "name": "stdout",
     "output_type": "stream",
     "text": [
      "53.63143595666564\n"
     ]
    }
   ],
   "source": [
    "print(statistics.mean(pred_conf_med_rand_all)*100)"
   ]
  },
  {
   "cell_type": "code",
   "execution_count": 78,
   "id": "4098a6a4",
   "metadata": {},
   "outputs": [
    {
     "name": "stdout",
     "output_type": "stream",
     "text": [
      "71.8833660204559\n"
     ]
    }
   ],
   "source": [
    "print(statistics.mean(pred_conf_big_rand_all)*100)"
   ]
  },
  {
   "cell_type": "code",
   "execution_count": 31,
   "id": "61fd1664",
   "metadata": {},
   "outputs": [
    {
     "name": "stdout",
     "output_type": "stream",
     "text": [
      "Mean confidence for bayesion optimization in correct guesses (medium):  82.0995106136759\n"
     ]
    }
   ],
   "source": [
    "print(\"Mean confidence for bayesion optimization in correct guesses (medium): \", statistics.mean(pred_conf_med_bay_correct)*100)"
   ]
  },
  {
   "cell_type": "code",
   "execution_count": 32,
   "id": "c61f6ade",
   "metadata": {},
   "outputs": [
    {
     "name": "stdout",
     "output_type": "stream",
     "text": [
      "Mean confidence for bayesion optimization in correct guesses (big):  95.24031685940116\n"
     ]
    }
   ],
   "source": [
    "print(\"Mean confidence for bayesion optimization in correct guesses (big): \", statistics.mean(pred_conf_big_bay_correct)*100)"
   ]
  },
  {
   "cell_type": "code",
   "execution_count": 33,
   "id": "51072e2a",
   "metadata": {},
   "outputs": [
    {
     "name": "stdout",
     "output_type": "stream",
     "text": [
      "Mean confidence for random grasps in correct guesses (medium):  79.27283893917513\n"
     ]
    }
   ],
   "source": [
    "print(\"Mean confidence for random grasps in correct guesses (medium): \", statistics.mean(pred_conf_med_rand_correct)*100)"
   ]
  },
  {
   "cell_type": "code",
   "execution_count": 34,
   "id": "aa8340b3",
   "metadata": {},
   "outputs": [
    {
     "name": "stdout",
     "output_type": "stream",
     "text": [
      "Mean confidence for random grasps in correct guesses (big):  78.52548741630238\n"
     ]
    }
   ],
   "source": [
    "print(\"Mean confidence for random grasps in correct guesses (big): \", statistics.mean(pred_conf_big_rand_correct)*100)"
   ]
  },
  {
   "cell_type": "markdown",
   "id": "fa998b6e",
   "metadata": {},
   "source": [
    "## Analysis for 2 re-grasps (seq len 3) "
   ]
  },
  {
   "cell_type": "code",
   "execution_count": 183,
   "id": "67cdef83",
   "metadata": {},
   "outputs": [],
   "source": [
    "# Hyper-paramters \n",
    "pred_ind = 3"
   ]
  },
  {
   "cell_type": "code",
   "execution_count": 184,
   "id": "6483c9ad",
   "metadata": {},
   "outputs": [],
   "source": [
    "# Data locations \n",
    "data_true_med_str_2 = \"bay_opt_DATA_med_TEST\"\n",
    "data_true_big_str_2 = \"bay_opt_DATA_big_TEST\""
   ]
  },
  {
   "cell_type": "code",
   "execution_count": 185,
   "id": "8ea64b1a",
   "metadata": {},
   "outputs": [],
   "source": [
    "initial_h_med_list_2 = []\n",
    "inital_data_set_med_list_2 = []\n",
    "sub_data_sets_med_list_2 = []\n",
    "prediction_first_h_med_list_2 = []\n",
    "predictions_bay_opt_med_list_2 = []\n",
    "predictions_rand_grasp_med_list_2 = []\n",
    "bay_op_suggs_med_list_2 = []\n",
    "bay_op_suggs_scores_med_list_2 = []\n",
    "random_h_regrs_med_list_2 = []\n",
    "first_grasp_metric_save_med_list_2 = []\n",
    "bay_grasps_metric_med_list_2 = []\n",
    "rand_grasps_metric_med_list_2 = []"
   ]
  },
  {
   "cell_type": "code",
   "execution_count": 186,
   "id": "91e2ddff",
   "metadata": {},
   "outputs": [],
   "source": [
    "# Loading the data (true medium)\n",
    "for filename in os.listdir(data_true_med_str_2): \n",
    "    file_data = np.load(data_true_med_str_2 + \"/\" + filename)\n",
    "    \n",
    "    initial_h_med_list_2.append(file_data[\"initial_h\"])\n",
    "    inital_data_set_med_list_2.append(file_data[\"inital_data_set\"])\n",
    "    sub_data_sets_med_list_2.append(file_data[\"sub_data_sets\"])\n",
    "    prediction_first_h_med_list_2.append(file_data[\"prediction_first_h\"])\n",
    "    predictions_bay_opt_med_list_2.append(file_data[\"predictions_bay_opt\"])\n",
    "    predictions_rand_grasp_med_list_2.append(file_data[\"predictions_rand_grasp\"])\n",
    "    bay_op_suggs_med_list_2.append(file_data[\"bay_op_suggs\"])\n",
    "    bay_op_suggs_scores_med_list_2.append(file_data[\"bay_op_suggs_scores\"])\n",
    "    random_h_regrs_med_list_2.append(file_data[\"random_h_regrs\"])\n",
    "    first_grasp_metric_save_med_list_2.append(file_data[\"first_grasp_metric_save\"])\n",
    "    bay_grasps_metric_med_list_2.append(file_data[\"bay_grasps_metric\"])\n",
    "    rand_grasps_metric_med_list_2.append(file_data[\"rand_grasps_metric\"])"
   ]
  },
  {
   "cell_type": "code",
   "execution_count": 187,
   "id": "de8844ee",
   "metadata": {},
   "outputs": [],
   "source": [
    "initial_h_big_list_2 = []\n",
    "inital_data_set_big_list_2 = []\n",
    "sub_data_sets_big_list_2 = []\n",
    "prediction_first_h_big_list_2 = []\n",
    "predictions_bay_opt_big_list_2 = []\n",
    "predictions_rand_grasp_big_list_2 = []\n",
    "bay_op_suggs_big_list_2 = []\n",
    "bay_op_suggs_scores_big_list_2 = []\n",
    "random_h_regrs_big_list_2 = []\n",
    "first_grasp_metric_save_big_list_2 = []\n",
    "bay_grasps_metric_big_list_2 = []\n",
    "rand_grasps_metric_big_list_2 = []"
   ]
  },
  {
   "cell_type": "code",
   "execution_count": 188,
   "id": "d86dbec2",
   "metadata": {},
   "outputs": [],
   "source": [
    "# Loading the data (true big)\n",
    "for filename in os.listdir(data_true_big_str_2): \n",
    "    file_data = np.load(data_true_big_str_2 + \"/\" + filename)\n",
    "    \n",
    "    initial_h_big_list_2.append(file_data[\"initial_h\"])\n",
    "    inital_data_set_big_list_2.append(file_data[\"inital_data_set\"])\n",
    "    sub_data_sets_big_list_2.append(file_data[\"sub_data_sets\"])\n",
    "    prediction_first_h_big_list_2.append(file_data[\"prediction_first_h\"])\n",
    "    predictions_bay_opt_big_list_2.append(file_data[\"predictions_bay_opt\"])\n",
    "    predictions_rand_grasp_big_list_2.append(file_data[\"predictions_rand_grasp\"])\n",
    "    bay_op_suggs_big_list_2.append(file_data[\"bay_op_suggs\"])\n",
    "    bay_op_suggs_scores_big_list_2.append(file_data[\"bay_op_suggs_scores\"])\n",
    "    random_h_regrs_big_list_2.append(file_data[\"random_h_regrs\"])\n",
    "    first_grasp_metric_save_big_list_2.append(file_data[\"first_grasp_metric_save\"])\n",
    "    bay_grasps_metric_big_list_2.append(file_data[\"bay_grasps_metric\"])\n",
    "    rand_grasps_metric_big_list_2.append(file_data[\"rand_grasps_metric\"])"
   ]
  },
  {
   "cell_type": "code",
   "execution_count": 189,
   "id": "8ab381d6",
   "metadata": {},
   "outputs": [],
   "source": [
    "# Counting number of correct prediction after bayesian optimization \n",
    "count_nb_correct_med_bay_2 = 0 \n",
    "tot_ctr_med_bay_2 = 0 \n",
    "pred_conf_med_bay_correct_2 = []\n",
    "pred_conf_med_bay_all_2 = []\n",
    "for it in range(len(predictions_bay_opt_med_list_2)):\n",
    "    pred_arr = predictions_bay_opt_med_list_2[it]\n",
    "    for arr_it in range(nb_it_per_h): \n",
    "        tot_ctr_med_bay_2 += 1 \n",
    "        pred_conf_med_bay_all_2.append(pred_arr[arr_it, pred_ind, 1])\n",
    "        if pred_arr[arr_it, pred_ind, 1] >= 0.5: \n",
    "            count_nb_correct_med_bay_2 += 1 \n",
    "            pred_conf_med_bay_correct_2.append(pred_arr[arr_it, pred_ind, 1])"
   ]
  },
  {
   "cell_type": "code",
   "execution_count": 190,
   "id": "fd347a5b",
   "metadata": {},
   "outputs": [
    {
     "name": "stdout",
     "output_type": "stream",
     "text": [
      "809\n",
      "4300\n",
      "Success rate in %:  18.813953488372093\n"
     ]
    }
   ],
   "source": [
    "print(count_nb_correct_med_bay_2)\n",
    "print(tot_ctr_med_bay_2)\n",
    "print(\"Success rate in %: \", count_nb_correct_med_bay_2 / tot_ctr_med_bay_2 *100)"
   ]
  },
  {
   "cell_type": "code",
   "execution_count": 191,
   "id": "4fbf7d58",
   "metadata": {},
   "outputs": [],
   "source": [
    "# Counting number of correct prediction after random grasp\n",
    "count_nb_correct_med_rand_2 = 0 \n",
    "tot_ctr_med_rand_2 = 0 \n",
    "pred_conf_med_rand_correct_2 = []\n",
    "pred_conf_med_rand_all_2 = []\n",
    "for it in range(len(predictions_rand_grasp_med_list_2)):\n",
    "    pred_arr = predictions_rand_grasp_med_list_2[it]\n",
    "    for arr_it in range(nb_it_per_h): \n",
    "        tot_ctr_med_rand_2 += 1 \n",
    "        pred_conf_med_rand_all_2.append(pred_arr[arr_it, pred_ind, 1])\n",
    "        if pred_arr[arr_it, pred_ind, 1] >= 0.5: \n",
    "            count_nb_correct_med_rand_2 += 1 \n",
    "            pred_conf_med_rand_correct_2.append(pred_arr[arr_it, pred_ind, 1])"
   ]
  },
  {
   "cell_type": "code",
   "execution_count": 192,
   "id": "68c14958",
   "metadata": {},
   "outputs": [
    {
     "name": "stdout",
     "output_type": "stream",
     "text": [
      "2198\n",
      "4300\n",
      "Success rate in %:  51.116279069767444\n"
     ]
    }
   ],
   "source": [
    "print(count_nb_correct_med_rand_2)\n",
    "print(tot_ctr_med_rand_2)\n",
    "print(\"Success rate in %: \", count_nb_correct_med_rand_2 / tot_ctr_med_rand_2 *100)"
   ]
  },
  {
   "cell_type": "code",
   "execution_count": 193,
   "id": "6d0b4c3d",
   "metadata": {},
   "outputs": [],
   "source": [
    "# Counting number of correct prediction after bayesian optimization \n",
    "count_nb_correct_big_bay_2 = 0 \n",
    "tot_ctr_big_bay_2 = 0 \n",
    "pred_conf_big_bay_correct_2 = []\n",
    "pred_conf_big_bay_all_2 = []\n",
    "for it in range(len(predictions_bay_opt_big_list_2)):\n",
    "    pred_arr = predictions_bay_opt_big_list_2[it]\n",
    "    for arr_it in range(nb_it_per_h): \n",
    "        tot_ctr_big_bay_2 += 1 \n",
    "        pred_conf_big_bay_all_2.append(pred_arr[arr_it, pred_ind, 0])\n",
    "        if pred_arr[arr_it, pred_ind, 0] >= 0.5: \n",
    "            count_nb_correct_big_bay_2 += 1 \n",
    "            pred_conf_big_bay_correct_2.append(pred_arr[arr_it, pred_ind, 0])"
   ]
  },
  {
   "cell_type": "code",
   "execution_count": 194,
   "id": "65b03765",
   "metadata": {},
   "outputs": [
    {
     "name": "stdout",
     "output_type": "stream",
     "text": [
      "3477\n",
      "3680\n",
      "Success rate in %:  94.48369565217392\n"
     ]
    }
   ],
   "source": [
    "print(count_nb_correct_big_bay_2)\n",
    "print(tot_ctr_big_bay_2)\n",
    "print(\"Success rate in %: \", count_nb_correct_big_bay_2 / tot_ctr_big_bay_2 *100)"
   ]
  },
  {
   "cell_type": "code",
   "execution_count": 195,
   "id": "3f7b50be",
   "metadata": {},
   "outputs": [],
   "source": [
    "# Counting number of correct prediction after random grasp\n",
    "count_nb_correct_big_rand_2 = 0 \n",
    "tot_ctr_big_rand_2 = 0 \n",
    "pred_conf_big_rand_correct_2 = []\n",
    "pred_conf_big_rand_all_2 = []\n",
    "for it in range(len(predictions_rand_grasp_big_list_2)):\n",
    "    pred_arr = predictions_rand_grasp_big_list_2[it]\n",
    "    for arr_it in range(nb_it_per_h): \n",
    "        tot_ctr_big_rand_2 += 1 \n",
    "        pred_conf_big_rand_all_2.append(pred_arr[arr_it, pred_ind, 0])\n",
    "        if pred_arr[arr_it, pred_ind,0] >= 0.5: \n",
    "            count_nb_correct_big_rand_2 += 1 \n",
    "            pred_conf_big_rand_correct_2.append(pred_arr[arr_it, pred_ind, 0])"
   ]
  },
  {
   "cell_type": "code",
   "execution_count": 196,
   "id": "f0384adf",
   "metadata": {},
   "outputs": [
    {
     "name": "stdout",
     "output_type": "stream",
     "text": [
      "3479\n",
      "3680\n",
      "Success rate in %:  94.53804347826087\n"
     ]
    }
   ],
   "source": [
    "print(count_nb_correct_big_rand_2)\n",
    "print(tot_ctr_big_rand_2)\n",
    "print(\"Success rate in %: \", count_nb_correct_big_rand_2 / tot_ctr_big_rand_2 *100)"
   ]
  },
  {
   "cell_type": "code",
   "execution_count": 197,
   "id": "7af2f0f3",
   "metadata": {},
   "outputs": [
    {
     "name": "stdout",
     "output_type": "stream",
     "text": [
      "Total success rate in %:  71.14035087719299\n"
     ]
    }
   ],
   "source": [
    "print(\"Total success rate in %: \", (count_nb_correct_med_rand_2 + count_nb_correct_big_rand_2)/(tot_ctr_med_bay_2+tot_ctr_big_rand_2)*100)"
   ]
  },
  {
   "cell_type": "code",
   "execution_count": 198,
   "id": "57ed5860",
   "metadata": {},
   "outputs": [
    {
     "name": "stdout",
     "output_type": "stream",
     "text": [
      "Mean confidence for bayesion optimization in correct guesses (medium):  99.82022999915804\n"
     ]
    }
   ],
   "source": [
    "print(\"Mean confidence for bayesion optimization in correct guesses (medium): \", statistics.mean(pred_conf_med_bay_correct_2)*100)"
   ]
  },
  {
   "cell_type": "code",
   "execution_count": 199,
   "id": "6aa449dc",
   "metadata": {},
   "outputs": [
    {
     "name": "stdout",
     "output_type": "stream",
     "text": [
      "Mean confidence for bayesion optimization in correct guesses (big):  99.91475217494443\n"
     ]
    }
   ],
   "source": [
    "print(\"Mean confidence for bayesion optimization in correct guesses (big): \", statistics.mean(pred_conf_big_bay_correct_2)*100)"
   ]
  },
  {
   "cell_type": "code",
   "execution_count": 181,
   "id": "4783c82b",
   "metadata": {},
   "outputs": [
    {
     "name": "stdout",
     "output_type": "stream",
     "text": [
      "Mean confidence for random grasps in correct guesses (medium):  77.43898880855559\n"
     ]
    }
   ],
   "source": [
    "print(\"Mean confidence for random grasps in correct guesses (medium): \", statistics.mean(pred_conf_med_rand_correct_2)*100)"
   ]
  },
  {
   "cell_type": "code",
   "execution_count": 182,
   "id": "46660207",
   "metadata": {},
   "outputs": [
    {
     "name": "stdout",
     "output_type": "stream",
     "text": [
      "Mean confidence for random grasps in correct guesses (big):  88.93610885326409\n"
     ]
    }
   ],
   "source": [
    "print(\"Mean confidence for random grasps in correct guesses (big): \", statistics.mean(pred_conf_big_rand_correct_2)*100)"
   ]
  },
  {
   "cell_type": "code",
   "execution_count": null,
   "id": "09de759d",
   "metadata": {},
   "outputs": [],
   "source": []
  }
 ],
 "metadata": {
  "kernelspec": {
   "display_name": "Python 3 (ipykernel)",
   "language": "python",
   "name": "python3"
  },
  "language_info": {
   "codemirror_mode": {
    "name": "ipython",
    "version": 3
   },
   "file_extension": ".py",
   "mimetype": "text/x-python",
   "name": "python",
   "nbconvert_exporter": "python",
   "pygments_lexer": "ipython3",
   "version": "3.7.10"
  }
 },
 "nbformat": 4,
 "nbformat_minor": 5
}
