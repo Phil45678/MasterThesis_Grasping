{
 "cells": [
  {
   "cell_type": "markdown",
   "id": "ac99997c",
   "metadata": {},
   "source": [
    "# Training the mapping for Bayesian optimization using regression "
   ]
  },
  {
   "cell_type": "code",
   "execution_count": 107,
   "id": "d4e2a0c2",
   "metadata": {},
   "outputs": [],
   "source": [
    "import matplotlib.pyplot as plt\n",
    "import numpy as np\n",
    "import pandas as pd\n",
    "import seaborn as sns"
   ]
  },
  {
   "cell_type": "code",
   "execution_count": 108,
   "id": "5d5c5f3f",
   "metadata": {},
   "outputs": [],
   "source": [
    "import tensorflow as tf\n",
    "\n",
    "from tensorflow import keras\n",
    "from tensorflow.keras import layers\n",
    "\n",
    "from sklearn.model_selection import train_test_split"
   ]
  },
  {
   "cell_type": "code",
   "execution_count": 109,
   "id": "2fe0a596",
   "metadata": {},
   "outputs": [],
   "source": [
    "from os import path"
   ]
  },
  {
   "cell_type": "code",
   "execution_count": 110,
   "id": "443afbd5",
   "metadata": {},
   "outputs": [],
   "source": [
    "import sys\n",
    "sys.path.append(\"../..\")\n",
    "from DexterousManipulation.training.custom_data_loader import load_filtered_class_data"
   ]
  },
  {
   "cell_type": "markdown",
   "id": "12d259c1",
   "metadata": {},
   "source": [
    "Note: Better to train one mapping *per class* ! "
   ]
  },
  {
   "cell_type": "code",
   "execution_count": 111,
   "id": "a9f15e65",
   "metadata": {},
   "outputs": [],
   "source": [
    "def load_mapping_data_set(class_0_folder, one_hot, nb_total_samples, rand_seed, test_train_ratio, batch_size, verbose):\n",
    "    nb_samp_class = int(nb_total_samples/2)\n",
    "    # Loading filtered raw data \n",
    "    if verbose >= 1:\n",
    "        print(\"Loading class 0.\")\n",
    "    class_0_dist, class_0_hands, time_taken = load_filtered_class_data(folder_name = class_0_folder, nb_samples = nb_samp_class)\n",
    "    if verbose >= 1: \n",
    "        print(\"Time taken to load class 0: \", time_taken)\n",
    "\n",
    "   \n",
    "    # Fusing the informations \n",
    "    inputs = [] \n",
    "    outputs = [] \n",
    "    # Class 0 \n",
    "    for index in range(len(class_0_dist)): \n",
    "        tmp_list = []\n",
    "        for hand_index in range(len(class_0_hands[-1])): \n",
    "            tmp_list.append(np.float64(class_0_hands[index][hand_index]))\n",
    "        inputs.append(tmp_list)\n",
    "        outputs.append(np.float64(class_0_dist[index]))\n",
    "        \n",
    "    # Shuffling the data \n",
    "    X_train, X_test, y_train, y_test = train_test_split(inputs, outputs, test_size=test_train_ratio, random_state=rand_seed)\n",
    "\n",
    "    # Creating the Tensors \n",
    "    input_tensor_training = tf.constant(X_train)\n",
    "    output_tensor_training = tf.constant(y_train)\n",
    "    input_tensor_test = tf.constant(X_test)\n",
    "    output_tensor_test = tf.constant(y_test)\n",
    "        \n",
    "    return input_tensor_training, output_tensor_training, input_tensor_test, output_tensor_test\n"
   ]
  },
  {
   "cell_type": "code",
   "execution_count": 114,
   "id": "57d8184c",
   "metadata": {},
   "outputs": [],
   "source": [
    "# Hyper-parameters \n",
    "nb_epochs = 100\n",
    "folder_class_0 = \"DATA_SET_BIG_CUBE\"\n",
    "folder_class_1 = \"DATA_SET_MEDIUM_CUBE\"\n",
    "batch_size = 50\n",
    "input_size = 13\n",
    "test_train_ratio = 0.2\n",
    "training_run_nb = 1\n",
    "shuffling_seed = 42\n",
    "apply_one_hot_encoding = True \n",
    "nb_total_samples = 500000\n",
    "verbose = 1 \n",
    "\n",
    "folder_saving_str = \"/../Figures/Training/500k_Data_Set/Medium_Cube_Mapping\"\n",
    "# basepath = path.dirname(__file__)\n",
    "# folder_saving_str = path.abspath(path.join(basepath, \"..\", \"Figures/Training/500k_Data_Set/Big_Cube_Mapping\"))"
   ]
  },
  {
   "cell_type": "code",
   "execution_count": 115,
   "id": "88fc8309",
   "metadata": {},
   "outputs": [
    {
     "name": "stdout",
     "output_type": "stream",
     "text": [
      "Loading class 0.\n",
      "Time taken to load class 0:  4.773678779602051\n"
     ]
    }
   ],
   "source": [
    "input_tensor_training, output_tensor_training, input_tensor_test, output_tensor_test = load_mapping_data_set(class_0_folder = folder_class_1, \n",
    "                             one_hot = apply_one_hot_encoding, \n",
    "                             nb_total_samples = nb_total_samples, \n",
    "                             rand_seed = shuffling_seed, \n",
    "                             test_train_ratio = test_train_ratio, \n",
    "                             batch_size = batch_size, \n",
    "                             verbose = verbose)"
   ]
  },
  {
   "cell_type": "code",
   "execution_count": 116,
   "id": "26944037",
   "metadata": {},
   "outputs": [],
   "source": [
    "# Creating the data set \n",
    "# dataset_training = tf.data.Dataset.from_tensor_slices((input_tensor_training, output_tensor_training))\n",
    "#dataset_testing = tf.data.Dataset.from_tensor_slices((input_tensor_test, output_tensor_test))"
   ]
  },
  {
   "cell_type": "code",
   "execution_count": 117,
   "id": "9f8a5f19",
   "metadata": {},
   "outputs": [],
   "source": [
    "model_mapping = keras.Sequential(\n",
    "        [\n",
    "            keras.layers.InputLayer(input_shape=(input_size,)), \n",
    "            layers.Dense(64, activation='relu'), \n",
    "            layers.Dense(32, activation='relu'), \n",
    "            layers.Dense(1)\n",
    "        ]\n",
    "    )"
   ]
  },
  {
   "cell_type": "code",
   "execution_count": 118,
   "id": "7b9092de",
   "metadata": {},
   "outputs": [],
   "source": [
    "model_mapping.compile(loss='mean_absolute_error',\n",
    "                optimizer=tf.keras.optimizers.Adam(0.001))"
   ]
  },
  {
   "cell_type": "code",
   "execution_count": 119,
   "id": "d70b65e3",
   "metadata": {},
   "outputs": [
    {
     "name": "stdout",
     "output_type": "stream",
     "text": [
      "Epoch 1/100\n",
      "5000/5000 [==============================] - 6s 1ms/step - loss: 0.0091 - val_loss: 0.0077\n",
      "Epoch 2/100\n",
      "5000/5000 [==============================] - 5s 1ms/step - loss: 0.0078 - val_loss: 0.0070\n",
      "Epoch 3/100\n",
      "5000/5000 [==============================] - 5s 1ms/step - loss: 0.0066 - val_loss: 0.0057\n",
      "Epoch 4/100\n",
      "5000/5000 [==============================] - 6s 1ms/step - loss: 0.0057 - val_loss: 0.0052\n",
      "Epoch 5/100\n",
      "5000/5000 [==============================] - 5s 1ms/step - loss: 0.0053 - val_loss: 0.0049\n",
      "Epoch 6/100\n",
      "5000/5000 [==============================] - 5s 1ms/step - loss: 0.0050 - val_loss: 0.0050\n",
      "Epoch 7/100\n",
      "5000/5000 [==============================] - 6s 1ms/step - loss: 0.0048 - val_loss: 0.0046\n",
      "Epoch 8/100\n",
      "5000/5000 [==============================] - 5s 987us/step - loss: 0.0047 - val_loss: 0.0045\n",
      "Epoch 9/100\n",
      "5000/5000 [==============================] - 5s 1ms/step - loss: 0.0046 - val_loss: 0.0044\n",
      "Epoch 10/100\n",
      "5000/5000 [==============================] - 5s 1ms/step - loss: 0.0046 - val_loss: 0.0045\n",
      "Epoch 11/100\n",
      "5000/5000 [==============================] - 5s 973us/step - loss: 0.0045 - val_loss: 0.0043\n",
      "Epoch 12/100\n",
      "5000/5000 [==============================] - 5s 940us/step - loss: 0.0044 - val_loss: 0.0043\n",
      "Epoch 13/100\n",
      "5000/5000 [==============================] - 5s 921us/step - loss: 0.0042 - val_loss: 0.0039\n",
      "Epoch 14/100\n",
      "5000/5000 [==============================] - 5s 1ms/step - loss: 0.0041 - val_loss: 0.0037\n",
      "Epoch 15/100\n",
      "5000/5000 [==============================] - 5s 1ms/step - loss: 0.0039 - val_loss: 0.0039\n",
      "Epoch 16/100\n",
      "5000/5000 [==============================] - 6s 1ms/step - loss: 0.0038 - val_loss: 0.0042\n",
      "Epoch 17/100\n",
      "5000/5000 [==============================] - 5s 1ms/step - loss: 0.0038 - val_loss: 0.0039\n",
      "Epoch 18/100\n",
      "5000/5000 [==============================] - 7s 1ms/step - loss: 0.0037 - val_loss: 0.0033\n",
      "Epoch 19/100\n",
      "5000/5000 [==============================] - 5s 1ms/step - loss: 0.0036 - val_loss: 0.0038\n",
      "Epoch 20/100\n",
      "5000/5000 [==============================] - 7s 1ms/step - loss: 0.0036 - val_loss: 0.0035\n",
      "Epoch 21/100\n",
      "5000/5000 [==============================] - 6s 1ms/step - loss: 0.0036 - val_loss: 0.0037\n",
      "Epoch 22/100\n",
      "5000/5000 [==============================] - 8s 2ms/step - loss: 0.0036 - val_loss: 0.0033\n",
      "Epoch 23/100\n",
      "5000/5000 [==============================] - 7s 1ms/step - loss: 0.0035 - val_loss: 0.0033\n",
      "Epoch 24/100\n",
      "5000/5000 [==============================] - 6s 1ms/step - loss: 0.0035 - val_loss: 0.0035\n",
      "Epoch 25/100\n",
      "5000/5000 [==============================] - 7s 1ms/step - loss: 0.0035 - val_loss: 0.0034\n",
      "Epoch 26/100\n",
      "5000/5000 [==============================] - 8s 2ms/step - loss: 0.0035 - val_loss: 0.0037\n",
      "Epoch 27/100\n",
      "5000/5000 [==============================] - 7s 1ms/step - loss: 0.0034 - val_loss: 0.0041\n",
      "Epoch 28/100\n",
      "5000/5000 [==============================] - 7s 1ms/step - loss: 0.0034 - val_loss: 0.0040\n",
      "Epoch 29/100\n",
      "5000/5000 [==============================] - 7s 1ms/step - loss: 0.0034 - val_loss: 0.0038\n",
      "Epoch 30/100\n",
      "5000/5000 [==============================] - 6s 1ms/step - loss: 0.0033 - val_loss: 0.0031\n",
      "Epoch 31/100\n",
      "5000/5000 [==============================] - 6s 1ms/step - loss: 0.0033 - val_loss: 0.0030\n",
      "Epoch 32/100\n",
      "5000/5000 [==============================] - 6s 1ms/step - loss: 0.0033 - val_loss: 0.0033\n",
      "Epoch 33/100\n",
      "5000/5000 [==============================] - 6s 1ms/step - loss: 0.0033 - val_loss: 0.0030\n",
      "Epoch 34/100\n",
      "5000/5000 [==============================] - 5s 1ms/step - loss: 0.0032 - val_loss: 0.0030\n",
      "Epoch 35/100\n",
      "5000/5000 [==============================] - 5s 1ms/step - loss: 0.0033 - val_loss: 0.0031\n",
      "Epoch 36/100\n",
      "5000/5000 [==============================] - 5s 1ms/step - loss: 0.0032 - val_loss: 0.0032\n",
      "Epoch 37/100\n",
      "5000/5000 [==============================] - 7s 1ms/step - loss: 0.0032 - val_loss: 0.0031\n",
      "Epoch 38/100\n",
      "5000/5000 [==============================] - 7s 1ms/step - loss: 0.0032 - val_loss: 0.0031\n",
      "Epoch 39/100\n",
      "5000/5000 [==============================] - 6s 1ms/step - loss: 0.0032 - val_loss: 0.0031\n",
      "Epoch 40/100\n",
      "5000/5000 [==============================] - 7s 1ms/step - loss: 0.0032 - val_loss: 0.0029\n",
      "Epoch 41/100\n",
      "5000/5000 [==============================] - 5s 1ms/step - loss: 0.0032 - val_loss: 0.0029\n",
      "Epoch 42/100\n",
      "5000/5000 [==============================] - 5s 974us/step - loss: 0.0032 - val_loss: 0.0030\n",
      "Epoch 43/100\n",
      "5000/5000 [==============================] - 5s 965us/step - loss: 0.0032 - val_loss: 0.0037\n",
      "Epoch 44/100\n",
      "5000/5000 [==============================] - 6s 1ms/step - loss: 0.0032 - val_loss: 0.0031\n",
      "Epoch 45/100\n",
      "5000/5000 [==============================] - 7s 1ms/step - loss: 0.0031 - val_loss: 0.0032\n",
      "Epoch 46/100\n",
      "5000/5000 [==============================] - 5s 1ms/step - loss: 0.0032 - val_loss: 0.0030\n",
      "Epoch 47/100\n",
      "5000/5000 [==============================] - 5s 1ms/step - loss: 0.0032 - val_loss: 0.0030\n",
      "Epoch 48/100\n",
      "5000/5000 [==============================] - 5s 1ms/step - loss: 0.0031 - val_loss: 0.0029\n",
      "Epoch 49/100\n",
      "5000/5000 [==============================] - 5s 1ms/step - loss: 0.0032 - val_loss: 0.0038\n",
      "Epoch 50/100\n",
      "5000/5000 [==============================] - 6s 1ms/step - loss: 0.0031 - val_loss: 0.0030\n",
      "Epoch 51/100\n",
      "5000/5000 [==============================] - 6s 1ms/step - loss: 0.0031 - val_loss: 0.0034\n",
      "Epoch 52/100\n",
      "5000/5000 [==============================] - 5s 1ms/step - loss: 0.0031 - val_loss: 0.0028\n",
      "Epoch 53/100\n",
      "5000/5000 [==============================] - 6s 1ms/step - loss: 0.0031 - val_loss: 0.0030\n",
      "Epoch 54/100\n",
      "5000/5000 [==============================] - 6s 1ms/step - loss: 0.0031 - val_loss: 0.0029\n",
      "Epoch 55/100\n",
      "5000/5000 [==============================] - 7s 1ms/step - loss: 0.0031 - val_loss: 0.0037\n",
      "Epoch 56/100\n",
      "5000/5000 [==============================] - 6s 1ms/step - loss: 0.0031 - val_loss: 0.0034\n",
      "Epoch 57/100\n",
      "5000/5000 [==============================] - 7s 1ms/step - loss: 0.0031 - val_loss: 0.0031\n",
      "Epoch 58/100\n",
      "5000/5000 [==============================] - 5s 1ms/step - loss: 0.0032 - val_loss: 0.0032\n",
      "Epoch 59/100\n",
      "5000/5000 [==============================] - 5s 998us/step - loss: 0.0031 - val_loss: 0.0030\n",
      "Epoch 60/100\n",
      "5000/5000 [==============================] - 6s 1ms/step - loss: 0.0031 - val_loss: 0.0033\n",
      "Epoch 61/100\n",
      "5000/5000 [==============================] - 6s 1ms/step - loss: 0.0031 - val_loss: 0.0032\n",
      "Epoch 62/100\n",
      "5000/5000 [==============================] - 5s 1ms/step - loss: 0.0031 - val_loss: 0.0028\n",
      "Epoch 63/100\n",
      "5000/5000 [==============================] - 5s 1ms/step - loss: 0.0031 - val_loss: 0.0032\n",
      "Epoch 64/100\n",
      "5000/5000 [==============================] - 5s 1ms/step - loss: 0.0031 - val_loss: 0.0028\n",
      "Epoch 65/100\n",
      "5000/5000 [==============================] - 5s 1ms/step - loss: 0.0031 - val_loss: 0.0028\n",
      "Epoch 66/100\n",
      "5000/5000 [==============================] - 6s 1ms/step - loss: 0.0031 - val_loss: 0.0029\n",
      "Epoch 67/100\n",
      "5000/5000 [==============================] - 5s 1ms/step - loss: 0.0031 - val_loss: 0.0030\n",
      "Epoch 68/100\n",
      "5000/5000 [==============================] - 7s 1ms/step - loss: 0.0031 - val_loss: 0.0030\n",
      "Epoch 69/100\n",
      "5000/5000 [==============================] - 5s 1ms/step - loss: 0.0031 - val_loss: 0.0029\n",
      "Epoch 70/100\n",
      "5000/5000 [==============================] - 5s 1ms/step - loss: 0.0031 - val_loss: 0.0028\n",
      "Epoch 71/100\n",
      "5000/5000 [==============================] - 6s 1ms/step - loss: 0.0030 - val_loss: 0.0031\n",
      "Epoch 72/100\n",
      "5000/5000 [==============================] - 5s 1ms/step - loss: 0.0030 - val_loss: 0.0031\n",
      "Epoch 73/100\n",
      "5000/5000 [==============================] - 5s 976us/step - loss: 0.0031 - val_loss: 0.0031\n",
      "Epoch 74/100\n",
      "5000/5000 [==============================] - 5s 975us/step - loss: 0.0031 - val_loss: 0.0028\n",
      "Epoch 75/100\n",
      "5000/5000 [==============================] - 5s 1ms/step - loss: 0.0031 - val_loss: 0.0035\n",
      "Epoch 76/100\n",
      "5000/5000 [==============================] - 5s 1ms/step - loss: 0.0030 - val_loss: 0.0028\n",
      "Epoch 77/100\n",
      "5000/5000 [==============================] - 5s 1ms/step - loss: 0.0030 - val_loss: 0.0027\n",
      "Epoch 78/100\n",
      "5000/5000 [==============================] - 6s 1ms/step - loss: 0.0030 - val_loss: 0.0030\n",
      "Epoch 79/100\n"
     ]
    },
    {
     "name": "stdout",
     "output_type": "stream",
     "text": [
      "5000/5000 [==============================] - 5s 1ms/step - loss: 0.0030 - val_loss: 0.0032\n",
      "Epoch 80/100\n",
      "5000/5000 [==============================] - 5s 1ms/step - loss: 0.0030 - val_loss: 0.0036\n",
      "Epoch 81/100\n",
      "5000/5000 [==============================] - 6s 1ms/step - loss: 0.0030 - val_loss: 0.0028\n",
      "Epoch 82/100\n",
      "5000/5000 [==============================] - 7s 1ms/step - loss: 0.0030 - val_loss: 0.0029\n",
      "Epoch 83/100\n",
      "5000/5000 [==============================] - 6s 1ms/step - loss: 0.0030 - val_loss: 0.0030\n",
      "Epoch 84/100\n",
      "5000/5000 [==============================] - 7s 1ms/step - loss: 0.0030 - val_loss: 0.0029\n",
      "Epoch 85/100\n",
      "5000/5000 [==============================] - 7s 1ms/step - loss: 0.0030 - val_loss: 0.0028\n",
      "Epoch 86/100\n",
      "5000/5000 [==============================] - 6s 1ms/step - loss: 0.0030 - val_loss: 0.0034\n",
      "Epoch 87/100\n",
      "5000/5000 [==============================] - 6s 1ms/step - loss: 0.0030 - val_loss: 0.0035\n",
      "Epoch 88/100\n",
      "5000/5000 [==============================] - 7s 1ms/step - loss: 0.0031 - val_loss: 0.0031\n",
      "Epoch 89/100\n",
      "5000/5000 [==============================] - 5s 1ms/step - loss: 0.0030 - val_loss: 0.0030\n",
      "Epoch 90/100\n",
      "5000/5000 [==============================] - 6s 1ms/step - loss: 0.0030 - val_loss: 0.0037\n",
      "Epoch 91/100\n",
      "5000/5000 [==============================] - 5s 1ms/step - loss: 0.0030 - val_loss: 0.0028\n",
      "Epoch 92/100\n",
      "5000/5000 [==============================] - 5s 1ms/step - loss: 0.0030 - val_loss: 0.0029\n",
      "Epoch 93/100\n",
      "5000/5000 [==============================] - 6s 1ms/step - loss: 0.0030 - val_loss: 0.0032\n",
      "Epoch 94/100\n",
      "5000/5000 [==============================] - 6s 1ms/step - loss: 0.0030 - val_loss: 0.0029\n",
      "Epoch 95/100\n",
      "5000/5000 [==============================] - 5s 995us/step - loss: 0.0031 - val_loss: 0.0027\n",
      "Epoch 96/100\n",
      "5000/5000 [==============================] - 5s 995us/step - loss: 0.0030 - val_loss: 0.0031\n",
      "Epoch 97/100\n",
      "5000/5000 [==============================] - 7s 1ms/step - loss: 0.0030 - val_loss: 0.0031\n",
      "Epoch 98/100\n",
      "5000/5000 [==============================] - 5s 1ms/step - loss: 0.0030 - val_loss: 0.0031\n",
      "Epoch 99/100\n",
      "5000/5000 [==============================] - 5s 1ms/step - loss: 0.0030 - val_loss: 0.0029\n",
      "Epoch 100/100\n",
      "5000/5000 [==============================] - 5s 1ms/step - loss: 0.0030 - val_loss: 0.0027\n",
      "Wall time: 9min 39s\n"
     ]
    }
   ],
   "source": [
    "%%time\n",
    "history = model_mapping.fit(\n",
    "    input_tensor_training, output_tensor_training,\n",
    "    validation_split=0.2,\n",
    "    verbose=verbose, epochs=nb_epochs)"
   ]
  },
  {
   "cell_type": "code",
   "execution_count": 120,
   "id": "6dad9d0e",
   "metadata": {},
   "outputs": [],
   "source": [
    "def plot_loss(history):\n",
    "  plt.plot(history.history['loss'], label='loss')\n",
    "  plt.plot(history.history['val_loss'], label='val_loss')\n",
    "  plt.ylim([0, 0.01])\n",
    "  plt.xlabel('Epoch')\n",
    "  plt.ylabel('Error [MPG]')\n",
    "  plt.legend()\n",
    "  plt.grid(True)"
   ]
  },
  {
   "cell_type": "code",
   "execution_count": 121,
   "id": "b48092de",
   "metadata": {},
   "outputs": [
    {
     "data": {
      "image/png": "[encoded data removed]",
      "text/plain": [
       "<Figure size 432x288 with 1 Axes>"
      ]
     },
     "metadata": {
      "needs_background": "light"
     },
     "output_type": "display_data"
    }
   ],
   "source": [
    "plot_loss(history)"
   ]
  },
  {
   "cell_type": "code",
   "execution_count": 122,
   "id": "dd59f746",
   "metadata": {},
   "outputs": [
    {
     "name": "stdout",
     "output_type": "stream",
     "text": [
      "1563/1563 [==============================] - 2s 1ms/step - loss: 0.0027\n"
     ]
    }
   ],
   "source": [
    "test_results = model_mapping.evaluate(input_tensor_test, output_tensor_test, verbose=verbose)"
   ]
  },
  {
   "cell_type": "code",
   "execution_count": 123,
   "id": "2398f4f6",
   "metadata": {},
   "outputs": [
    {
     "data": {
      "image/png": "[encoded data removed]",
      "text/plain": [
       "<Figure size 432x288 with 1 Axes>"
      ]
     },
     "metadata": {
      "needs_background": "light"
     },
     "output_type": "display_data"
    }
   ],
   "source": [
    "test_predictions = model_mapping.predict(input_tensor_test).flatten()\n",
    "\n",
    "a = plt.axes(aspect='equal')\n",
    "plt.scatter(output_tensor_test, test_predictions)\n",
    "plt.xlabel('True Values [MPG]')\n",
    "plt.ylabel('Predictions [MPG]')\n",
    "lims = [0, 0.008]\n",
    "plt.xlim(lims)\n",
    "plt.ylim(lims)\n",
    "_ = plt.plot(lims, lims)"
   ]
  },
  {
   "cell_type": "code",
   "execution_count": 64,
   "id": "e4b66ebb",
   "metadata": {},
   "outputs": [
    {
     "data": {
      "image/png": "[encoded data removed]",
      "text/plain": [
       "<Figure size 432x288 with 1 Axes>"
      ]
     },
     "metadata": {
      "needs_background": "light"
     },
     "output_type": "display_data"
    }
   ],
   "source": [
    "# Look at error \n",
    "error = test_predictions - output_tensor_test\n",
    "plt.hist(error, bins=25)\n",
    "plt.xlabel('Prediction Error [MPG]')\n",
    "_ = plt.ylabel('Count')"
   ]
  },
  {
   "cell_type": "code",
   "execution_count": null,
   "id": "9f7af111",
   "metadata": {},
   "outputs": [],
   "source": []
  },
  {
   "cell_type": "code",
   "execution_count": 124,
   "id": "18af1499",
   "metadata": {},
   "outputs": [
    {
     "name": "stdout",
     "output_type": "stream",
     "text": [
      "INFO:tensorflow:Assets written to: Test_Model_Mapping_Medium_100_500K\\assets\n"
     ]
    }
   ],
   "source": [
    "model_mapping.save(\"Test_Model_Mapping_Medium_100_500K\")"
   ]
  },
  {
   "cell_type": "code",
   "execution_count": 125,
   "id": "ac64f4ab",
   "metadata": {},
   "outputs": [],
   "source": [
    "np.set_printoptions(precision=4)"
   ]
  },
  {
   "cell_type": "code",
   "execution_count": 126,
   "id": "22ef4b1a",
   "metadata": {},
   "outputs": [
    {
     "name": "stdout",
     "output_type": "stream",
     "text": [
      "tf.Tensor([2.0059e-05 5.6805e-03 2.9686e-02 2.6959e-02 2.7397e-02], shape=(5,), dtype=float64)\n"
     ]
    }
   ],
   "source": [
    "print(output_tensor_training[:5])"
   ]
  },
  {
   "cell_type": "code",
   "execution_count": 127,
   "id": "2fff997e",
   "metadata": {},
   "outputs": [
    {
     "name": "stdout",
     "output_type": "stream",
     "text": [
      "[0.0133 0.0271]\n"
     ]
    }
   ],
   "source": [
    "print(test_predictions[:2])"
   ]
  },
  {
   "cell_type": "code",
   "execution_count": 128,
   "id": "9dc8ffbb",
   "metadata": {},
   "outputs": [
    {
     "name": "stdout",
     "output_type": "stream",
     "text": [
      "tf.Tensor([0.0166 0.0252], shape=(2,), dtype=float64)\n"
     ]
    }
   ],
   "source": [
    "print(output_tensor_test[:2])"
   ]
  },
  {
   "cell_type": "code",
   "execution_count": null,
   "id": "97740610",
   "metadata": {},
   "outputs": [],
   "source": []
  }
 ],
 "metadata": {
  "kernelspec": {
   "display_name": "Python 3 (ipykernel)",
   "language": "python",
   "name": "python3"
  },
  "language_info": {
   "codemirror_mode": {
    "name": "ipython",
    "version": 3
   },
   "file_extension": ".py",
   "mimetype": "text/x-python",
   "name": "python",
   "nbconvert_exporter": "python",
   "pygments_lexer": "ipython3",
   "version": "3.7.10"
  }
 },
 "nbformat": 4,
 "nbformat_minor": 5
}
